{
 "cells": [
  {
   "cell_type": "code",
   "execution_count": 3,
   "metadata": {},
   "outputs": [
    {
     "data": {
      "text/plain": [
       "'D:\\\\Parth__B3'"
      ]
     },
     "execution_count": 3,
     "metadata": {},
     "output_type": "execute_result"
    }
   ],
   "source": [
    "pwd"
   ]
  },
  {
   "cell_type": "code",
   "execution_count": 11,
   "metadata": {},
   "outputs": [
    {
     "name": "stdout",
     "output_type": "stream",
     "text": [
      "<_io.TextIOWrapper name='Me.txt' mode='r' encoding='cp1252'>\n"
     ]
    }
   ],
   "source": [
    "file_object = open('Me.txt',mode='r')\n",
    "print(file_object)\n",
    "file_object.close()\n",
    "# File same folder ma j hoy"
   ]
  },
  {
   "cell_type": "code",
   "execution_count": 13,
   "metadata": {},
   "outputs": [
    {
     "ename": "FileNotFoundError",
     "evalue": "[Errno 2] No such file or directory: 'abc.txt'",
     "output_type": "error",
     "traceback": [
      "\u001b[1;31m---------------------------------------------------------------------------\u001b[0m",
      "\u001b[1;31mFileNotFoundError\u001b[0m                         Traceback (most recent call last)",
      "\u001b[1;32m<ipython-input-13-028bb897f22a>\u001b[0m in \u001b[0;36m<module>\u001b[1;34m\u001b[0m\n\u001b[1;32m----> 1\u001b[1;33m \u001b[0mfile_object\u001b[0m \u001b[1;33m=\u001b[0m \u001b[0mopen\u001b[0m\u001b[1;33m(\u001b[0m\u001b[1;34m'abc.txt'\u001b[0m\u001b[1;33m,\u001b[0m\u001b[0mmode\u001b[0m\u001b[1;33m=\u001b[0m\u001b[1;34m'r'\u001b[0m\u001b[1;33m)\u001b[0m\u001b[1;33m\u001b[0m\u001b[1;33m\u001b[0m\u001b[0m\n\u001b[0m\u001b[0;32m      2\u001b[0m \u001b[0mprint\u001b[0m\u001b[1;33m(\u001b[0m\u001b[0mfile_object\u001b[0m\u001b[1;33m)\u001b[0m\u001b[1;33m\u001b[0m\u001b[1;33m\u001b[0m\u001b[0m\n\u001b[0;32m      3\u001b[0m \u001b[0mfile_object\u001b[0m\u001b[1;33m.\u001b[0m\u001b[0mclose\u001b[0m\u001b[1;33m(\u001b[0m\u001b[1;33m)\u001b[0m\u001b[1;33m\u001b[0m\u001b[1;33m\u001b[0m\u001b[0m\n",
      "\u001b[1;31mFileNotFoundError\u001b[0m: [Errno 2] No such file or directory: 'abc.txt'"
     ]
    }
   ],
   "source": [
    "file_object = open('abc.txt',mode='r')\n",
    "print(file_object)\n",
    "file_object.close()\n",
    "# folder change hoy"
   ]
  },
  {
   "cell_type": "code",
   "execution_count": 18,
   "metadata": {},
   "outputs": [
    {
     "name": "stdout",
     "output_type": "stream",
     "text": [
      "<_io.TextIOWrapper name='D:\\\\B3\\\\abc.txt' mode='r' encoding='cp1252'>\n"
     ]
    }
   ],
   "source": [
    "file_object = open('D:\\\\B3\\\\abc.txt',mode='r')\n",
    "print(file_object)\n",
    "file_object.close()\n",
    "# folder change hoy tyare path aapvo pade file found karva"
   ]
  },
  {
   "cell_type": "code",
   "execution_count": 25,
   "metadata": {},
   "outputs": [
    {
     "name": "stdout",
     "output_type": "stream",
     "text": [
      "Hello Everybody,\n",
      "My name is Parth.\n",
      "I am also study in Lj-University.\n",
      "I study CSE (Computer Science Engineearing).\n",
      "My village is Narichana.\n",
      "\n",
      "> \n"
     ]
    },
    {
     "ename": "UnsupportedOperation",
     "evalue": "not writable",
     "output_type": "error",
     "traceback": [
      "\u001b[1;31m---------------------------------------------------------------------------\u001b[0m",
      "\u001b[1;31mUnsupportedOperation\u001b[0m                      Traceback (most recent call last)",
      "\u001b[1;32m<ipython-input-25-bc0c05dca27e>\u001b[0m in \u001b[0;36m<module>\u001b[1;34m\u001b[0m\n\u001b[0;32m      4\u001b[0m \u001b[0my\u001b[0m\u001b[1;33m=\u001b[0m\u001b[0mf\u001b[0m\u001b[1;33m.\u001b[0m\u001b[0mread\u001b[0m\u001b[1;33m(\u001b[0m\u001b[1;33m)\u001b[0m\u001b[1;33m\u001b[0m\u001b[1;33m\u001b[0m\u001b[0m\n\u001b[0;32m      5\u001b[0m \u001b[0mprint\u001b[0m\u001b[1;33m(\u001b[0m\u001b[1;34m\">\"\u001b[0m\u001b[1;33m,\u001b[0m\u001b[0my\u001b[0m\u001b[1;33m)\u001b[0m\u001b[1;33m\u001b[0m\u001b[1;33m\u001b[0m\u001b[0m\n\u001b[1;32m----> 6\u001b[1;33m \u001b[0mf\u001b[0m\u001b[1;33m.\u001b[0m\u001b[0mwrite\u001b[0m\u001b[1;33m(\u001b[0m\u001b[1;34m\"Hello\"\u001b[0m\u001b[1;33m)\u001b[0m\u001b[1;33m\u001b[0m\u001b[1;33m\u001b[0m\u001b[0m\n\u001b[0m\u001b[0;32m      7\u001b[0m \u001b[0mf\u001b[0m\u001b[1;33m.\u001b[0m\u001b[0mclose\u001b[0m\u001b[1;33m(\u001b[0m\u001b[1;33m)\u001b[0m\u001b[1;33m\u001b[0m\u001b[1;33m\u001b[0m\u001b[0m\n",
      "\u001b[1;31mUnsupportedOperation\u001b[0m: not writable"
     ]
    }
   ],
   "source": [
    "f=open('Me.txt','r')\n",
    "x=f.read()\n",
    "print(x)\n",
    "y=f.read()\n",
    "print(\">\",y)\n",
    "f.write(\"Hello\")\n",
    "f.close()"
   ]
  },
  {
   "cell_type": "code",
   "execution_count": 32,
   "metadata": {},
   "outputs": [
    {
     "name": "stdout",
     "output_type": "stream",
     "text": [
      "Hello Everybody,\n",
      "My name is Parth.\n",
      "I am also study in Lj-University.\n",
      "I study CSE (Computer Science Engineearing).\n",
      "My village is Narichana.\n",
      "Vishal10Vishal10\n",
      "\n"
     ]
    }
   ],
   "source": [
    "f=open('Me.txt','r+')\n",
    "x=f.read()\n",
    "print(x)\n",
    "f.write(\"Vishal10\")\n",
    "y=f.read()\n",
    "print(y)\n",
    "f.close()"
   ]
  },
  {
   "cell_type": "code",
   "execution_count": 43,
   "metadata": {},
   "outputs": [],
   "source": [
    "f=open('Me.txt','r+')\n",
    "f.write(\"Parth\")\n",
    "f.close()"
   ]
  },
  {
   "cell_type": "code",
   "execution_count": 47,
   "metadata": {},
   "outputs": [],
   "source": [
    "f=open('Me.txt','w')\n",
    "f.write(\"All Clear\")\n",
    "f.close()\n",
    "# mode=W karo tyare file aakhi clear thai jay che pasi je write karo e j aave."
   ]
  },
  {
   "cell_type": "code",
   "execution_count": 49,
   "metadata": {},
   "outputs": [
    {
     "ename": "UnsupportedOperation",
     "evalue": "not readable",
     "output_type": "error",
     "traceback": [
      "\u001b[1;31m---------------------------------------------------------------------------\u001b[0m",
      "\u001b[1;31mUnsupportedOperation\u001b[0m                      Traceback (most recent call last)",
      "\u001b[1;32m<ipython-input-49-34731a12520d>\u001b[0m in \u001b[0;36m<module>\u001b[1;34m\u001b[0m\n\u001b[0;32m      1\u001b[0m \u001b[0mf\u001b[0m\u001b[1;33m=\u001b[0m\u001b[0mopen\u001b[0m\u001b[1;33m(\u001b[0m\u001b[1;34m'Me.txt'\u001b[0m\u001b[1;33m,\u001b[0m\u001b[1;34m'w'\u001b[0m\u001b[1;33m)\u001b[0m\u001b[1;33m\u001b[0m\u001b[1;33m\u001b[0m\u001b[0m\n\u001b[0;32m      2\u001b[0m \u001b[0mf\u001b[0m\u001b[1;33m.\u001b[0m\u001b[0mwrite\u001b[0m\u001b[1;33m(\u001b[0m\u001b[1;34m\"All Clear\"\u001b[0m\u001b[1;33m)\u001b[0m\u001b[1;33m\u001b[0m\u001b[1;33m\u001b[0m\u001b[0m\n\u001b[1;32m----> 3\u001b[1;33m \u001b[0mf\u001b[0m\u001b[1;33m.\u001b[0m\u001b[0mread\u001b[0m\u001b[1;33m(\u001b[0m\u001b[1;33m)\u001b[0m\u001b[1;33m\u001b[0m\u001b[1;33m\u001b[0m\u001b[0m\n\u001b[0m\u001b[0;32m      4\u001b[0m \u001b[0mf\u001b[0m\u001b[1;33m.\u001b[0m\u001b[0mclose\u001b[0m\u001b[1;33m(\u001b[0m\u001b[1;33m)\u001b[0m\u001b[1;33m\u001b[0m\u001b[1;33m\u001b[0m\u001b[0m\n",
      "\u001b[1;31mUnsupportedOperation\u001b[0m: not readable"
     ]
    }
   ],
   "source": [
    "f=open('Me.txt','w')\n",
    "f.write(\"All Clear\")\n",
    "f.read()\n",
    "f.close()"
   ]
  },
  {
   "cell_type": "code",
   "execution_count": 67,
   "metadata": {},
   "outputs": [
    {
     "name": "stdout",
     "output_type": "stream",
     "text": [
      "\n"
     ]
    }
   ],
   "source": [
    "f=open('Me.txt','w+')\n",
    "x=f.read()\n",
    "print(x)\n",
    "f.write(\"Parth\")\n",
    "f.close()"
   ]
  },
  {
   "cell_type": "code",
   "execution_count": 69,
   "metadata": {},
   "outputs": [],
   "source": [
    "f=open('pqr.txt','w+')\n",
    "# Jo name na male file nu to new file auto-create thai jay."
   ]
  },
  {
   "cell_type": "code",
   "execution_count": 76,
   "metadata": {},
   "outputs": [],
   "source": [
    "f=open('Me.txt','a')\n",
    "f.write(\" Patel is Best.\")\n",
    "f.close()"
   ]
  },
  {
   "cell_type": "code",
   "execution_count": 77,
   "metadata": {},
   "outputs": [
    {
     "ename": "UnsupportedOperation",
     "evalue": "not readable",
     "output_type": "error",
     "traceback": [
      "\u001b[1;31m---------------------------------------------------------------------------\u001b[0m",
      "\u001b[1;31mUnsupportedOperation\u001b[0m                      Traceback (most recent call last)",
      "\u001b[1;32m<ipython-input-77-67ce96578970>\u001b[0m in \u001b[0;36m<module>\u001b[1;34m\u001b[0m\n\u001b[0;32m      1\u001b[0m \u001b[0mf\u001b[0m\u001b[1;33m=\u001b[0m\u001b[0mopen\u001b[0m\u001b[1;33m(\u001b[0m\u001b[1;34m'Me.txt'\u001b[0m\u001b[1;33m,\u001b[0m\u001b[1;34m'a'\u001b[0m\u001b[1;33m)\u001b[0m\u001b[1;33m\u001b[0m\u001b[1;33m\u001b[0m\u001b[0m\n\u001b[0;32m      2\u001b[0m \u001b[0mf\u001b[0m\u001b[1;33m.\u001b[0m\u001b[0mwrite\u001b[0m\u001b[1;33m(\u001b[0m\u001b[1;34m\" Patel is Best.\"\u001b[0m\u001b[1;33m)\u001b[0m\u001b[1;33m\u001b[0m\u001b[1;33m\u001b[0m\u001b[0m\n\u001b[1;32m----> 3\u001b[1;33m \u001b[0mf\u001b[0m\u001b[1;33m.\u001b[0m\u001b[0mread\u001b[0m\u001b[1;33m(\u001b[0m\u001b[1;33m)\u001b[0m\u001b[1;33m\u001b[0m\u001b[1;33m\u001b[0m\u001b[0m\n\u001b[0m\u001b[0;32m      4\u001b[0m \u001b[0mf\u001b[0m\u001b[1;33m.\u001b[0m\u001b[0mclose\u001b[0m\u001b[1;33m(\u001b[0m\u001b[1;33m)\u001b[0m\u001b[1;33m\u001b[0m\u001b[1;33m\u001b[0m\u001b[0m\n",
      "\u001b[1;31mUnsupportedOperation\u001b[0m: not readable"
     ]
    }
   ],
   "source": [
    "f=open('Me.txt','a')\n",
    "f.write(\" Patel is Best.\")\n",
    "f.read()\n",
    "f.close()"
   ]
  },
  {
   "cell_type": "code",
   "execution_count": 83,
   "metadata": {},
   "outputs": [
    {
     "name": "stdout",
     "output_type": "stream",
     "text": [
      "pqr.txt\n",
      "a\n",
      "False\n",
      "False\n",
      "True\n",
      "True\n"
     ]
    }
   ],
   "source": [
    "f=open('pqr.txt','a')\n",
    "print(f.name)\n",
    "print(f.mode)\n",
    "print(f.closed)\n",
    "print(f.readable())\n",
    "print(f.writable())\n",
    "f.close()\n",
    "print(f.closed)"
   ]
  },
  {
   "cell_type": "code",
   "execution_count": 94,
   "metadata": {},
   "outputs": [],
   "source": [
    "f=open('Me.txt','w')\n",
    "f.write(\"Hello\")\n",
    "f.writelines(['\\nA\\n','B\\n','C'])\n",
    "f.close()"
   ]
  },
  {
   "cell_type": "code",
   "execution_count": 98,
   "metadata": {},
   "outputs": [
    {
     "name": "stdout",
     "output_type": "stream",
     "text": [
      "Hello\n",
      "Hii\n",
      "Wel Come\n"
     ]
    }
   ],
   "source": [
    "f=open('Ex.txt','r')\n",
    "print(f.read())\n",
    "f.close()"
   ]
  },
  {
   "cell_type": "code",
   "execution_count": 120,
   "metadata": {},
   "outputs": [
    {
     "name": "stdout",
     "output_type": "stream",
     "text": [
      "He\n",
      "llo\n",
      "H\n",
      "iii\n",
      "Wel Come\n"
     ]
    }
   ],
   "source": [
    "f=open('Ex.txt','r')\n",
    "print(f.read(2))\n",
    "print(f.read(5))\n",
    "print(f.read())\n",
    "f.close()\n",
    "# ahi () je lakhso e byte ma read karse means character ma read karse.\n",
    "# line puri thay pasi last ma \\n aave te-ne 1-byte ni jem Levano. (  \\n = 1-ch  )\n",
    "# niche ni line ma read karva jase."
   ]
  },
  {
   "cell_type": "code",
   "execution_count": 119,
   "metadata": {},
   "outputs": [
    {
     "name": "stdout",
     "output_type": "stream",
     "text": [
      "Hello\n",
      "\n",
      "Hi\n",
      "ii\n",
      "\n",
      "Wel Come\n"
     ]
    }
   ],
   "source": [
    "f=open('Ex.txt','r')\n",
    "print(f.readline())\n",
    "print(f.readline(2))\n",
    "print(f.readline(5))\n",
    "print(f.readline())\n",
    "f.close()\n",
    "# readline ma line pate pasi niche ni line ma na jay."
   ]
  },
  {
   "cell_type": "code",
   "execution_count": 134,
   "metadata": {},
   "outputs": [
    {
     "name": "stdout",
     "output_type": "stream",
     "text": [
      "['B3 is Best.\\n', 'Hiii\\n', 'Wel-Come']\n"
     ]
    }
   ],
   "source": [
    "f=open('Ex.txt','r')\n",
    "print(f.readlines())\n",
    "f.close()\n",
    "#  readlines ma ek line ma je hoy e list ma ek string ni jem aave."
   ]
  },
  {
   "cell_type": "code",
   "execution_count": 132,
   "metadata": {},
   "outputs": [
    {
     "name": "stdout",
     "output_type": "stream",
     "text": [
      "['B3 is Best.\\n']\n",
      "['Hiii\\n']\n",
      "['Wel-Come']\n"
     ]
    }
   ],
   "source": [
    "f=open('Ex.txt','r')\n",
    "print(f.readlines(7))    \n",
    "print(f.readlines(1))\n",
    "print(f.readlines())\n",
    "f.close()"
   ]
  },
  {
   "cell_type": "code",
   "execution_count": 131,
   "metadata": {},
   "outputs": [
    {
     "name": "stdout",
     "output_type": "stream",
     "text": [
      "B3 is Best.\n",
      "\n",
      "Hiii\n",
      "\n",
      "Wel-Come\n"
     ]
    }
   ],
   "source": [
    "f=open('Ex.txt')\n",
    "for i in f:\n",
    "    print(i)\n",
    "f.close()"
   ]
  },
  {
   "cell_type": "code",
   "execution_count": 135,
   "metadata": {},
   "outputs": [
    {
     "name": "stdout",
     "output_type": "stream",
     "text": [
      "B3\n",
      "is\n",
      "Best.\n",
      "Hiii\n",
      "Wel-Come\n"
     ]
    }
   ],
   "source": [
    "# space taave tya thi alag karo\n",
    "\n",
    "f=open('Ex.txt')\n",
    "for i in f:\n",
    "    for j in i.split():\n",
    "        print(j)\n",
    "f.close()"
   ]
  },
  {
   "cell_type": "code",
   "execution_count": 3,
   "metadata": {},
   "outputs": [],
   "source": []
  },
  {
   "cell_type": "code",
   "execution_count": 32,
   "metadata": {},
   "outputs": [
    {
     "name": "stdout",
     "output_type": "stream",
     "text": [
      "No. of Lines :- 4\n",
      "No. of Character :- 72\n",
      "No. of word :- 18\n"
     ]
    }
   ],
   "source": [
    "# Counting\n",
    "\n",
    "f=open('Me.txt')\n",
    "print(\"No. of Lines :-\",len(f.readlines()))\n",
    "f.seek(0)\n",
    "print(\"No. of Character :-\",len(f.read()))\n",
    "f.seek(0)\n",
    "print(\"No. of word :-\",len(f.read().split()))\n",
    "f.close()"
   ]
  },
  {
   "cell_type": "code",
   "execution_count": 50,
   "metadata": {},
   "outputs": [
    {
     "name": "stdout",
     "output_type": "stream",
     "text": [
      "B3 is best in Python\n",
      "#B2 is good in FSD\n",
      "B1 is best #in Python\n",
      "All the best\n",
      "------New File------\n",
      "B3 is best in Python\n",
      "B1 is best \n",
      "All the best\n"
     ]
    }
   ],
   "source": [
    "#   '#' new file ma na aavva joy\n",
    "#     f.seek(0) :- Pointer ne first leter pr lai ne jay.\n",
    "\n",
    "f=open('Me.txt','r')\n",
    "f1=open('Ex1.txt','w+')\n",
    "\n",
    "for i in f:\n",
    "    n=i.find('#')\n",
    "    if n==-1:\n",
    "        f1.write(i)\n",
    "    elif i[0]=='#':\n",
    "        f1.write(\"\")\n",
    "    else:\n",
    "        f1.write(i[:n]+'\\n')\n",
    "        \n",
    "f.seek(0)\n",
    "f1.seek(0)\n",
    "\n",
    "print(f.read())\n",
    "print(\"------New File------\")\n",
    "print(f1.read())\n",
    "\n",
    "f.close()\n",
    "f1.close()"
   ]
  },
  {
   "cell_type": "code",
   "execution_count": 65,
   "metadata": {},
   "outputs": [
    {
     "name": "stdout",
     "output_type": "stream",
     "text": [
      "3 line , 6 column\n",
      "4 line , 0 column\n"
     ]
    }
   ],
   "source": [
    "#  2-File no Diffrence find karo ane line-column aapo.\n",
    "\n",
    "f1=open('Me.txt')\n",
    "f2=open('Ex.txt')\n",
    "l1=f1.readlines()\n",
    "l2=f2.readlines()\n",
    "length=min(len(l1),len(l2))\n",
    "for i in range(length):\n",
    "    if l1[i]!=l2[i]:\n",
    "        print(i+1,'line',end=\" , \")\n",
    "        for j in range(len(l1[i])):\n",
    "            if l1[i][j]!=l2[i][j]:\n",
    "                print(j,'column')"
   ]
  },
  {
   "cell_type": "code",
   "execution_count": 5,
   "metadata": {},
   "outputs": [
    {
     "name": "stdout",
     "output_type": "stream",
     "text": [
      "Line-1\n",
      "\n",
      "Line-2\n",
      "\n",
      "Line-3\n",
      "\n",
      "Line-4\n",
      "\n",
      "Line-5\n",
      "\n",
      "Enter y or n : y\n",
      "Line-6\n",
      "\n",
      "Line-7\n",
      "\n",
      "Line-8\n",
      "\n",
      "Line-9\n",
      "\n",
      "Line-10\n",
      "\n",
      "Enter y or n : n\n",
      "You are leave\n"
     ]
    }
   ],
   "source": [
    "f=open('Ex1.txt')\n",
    "count=0\n",
    "for i in f:\n",
    "    print(i)\n",
    "    count+=1\n",
    "    if count%5==0:\n",
    "        user=input(\"Enter y or n : \")\n",
    "        if user=='n':\n",
    "            print(\"You are leave\")\n",
    "            break"
   ]
  },
  {
   "cell_type": "code",
   "execution_count": 5,
   "metadata": {},
   "outputs": [
    {
     "name": "stdout",
     "output_type": "stream",
     "text": [
      "stephen.marquard@uct.ac.za\n",
      "louis@media.berkeley.edu\n",
      "zqian@umich.edu\n",
      "rjlowe@iupui.edu\n",
      "zqian@umich.edu\n",
      "rjlowe@iupui.edu\n",
      "cwen@iupui.edu\n",
      "cwen@iupui.edu\n",
      "gsilver@umich.edu\n",
      "gsilver@umich.edu\n",
      "zqian@umich.edu\n",
      "gsilver@umich.edu\n",
      "wagnermr@iupui.edu\n",
      "zqian@umich.edu\n",
      "antranig@caret.cam.ac.uk\n",
      "gopal.ramasammycook@gmail.com\n",
      "david.horwitz@uct.ac.za\n",
      "david.horwitz@uct.ac.za\n",
      "david.horwitz@uct.ac.za\n",
      "david.horwitz@uct.ac.za\n",
      "stephen.marquard@uct.ac.za\n",
      "louis@media.berkeley.edu\n",
      "louis@media.berkeley.edu\n",
      "ray@media.berkeley.edu\n",
      "cwen@iupui.edu\n",
      "cwen@iupui.edu\n",
      "cwen@iupui.edu\n",
      "Total MailId :-  27\n",
      "<_io.TextIOWrapper name='D:\\\\Parth__B3\\\\File\\\\Files\\\\mbox-short.txt' mode='r' encoding='cp1252'>\n"
     ]
    }
   ],
   "source": [
    "#  Pepar-1(1)\n",
    "\n",
    "f=open('D:\\Parth__B3\\File\\Files\\\\mbox-short.txt')\n",
    "c=0\n",
    "for i in f:\n",
    "    if i.startswith('From '):\n",
    "        x=i.split()\n",
    "        c+=1\n",
    "        print(x[1])\n",
    "print('Total MailId :- ',c)\n",
    "print(f)\n",
    "f.close ()"
   ]
  },
  {
   "cell_type": "code",
   "execution_count": 8,
   "metadata": {},
   "outputs": [
    {
     "name": "stdout",
     "output_type": "stream",
     "text": [
      "stephen.marquard@uct.ac.za\n",
      "louis@media.berkeley.edu\n",
      "zqian@umich.edu\n",
      "rjlowe@iupui.edu\n",
      "zqian@umich.edu\n",
      "rjlowe@iupui.edu\n",
      "cwen@iupui.edu\n",
      "cwen@iupui.edu\n",
      "gsilver@umich.edu\n",
      "gsilver@umich.edu\n",
      "zqian@umich.edu\n",
      "gsilver@umich.edu\n",
      "wagnermr@iupui.edu\n",
      "zqian@umich.edu\n",
      "antranig@caret.cam.ac.uk\n",
      "gopal.ramasammycook@gmail.com\n",
      "david.horwitz@uct.ac.za\n",
      "david.horwitz@uct.ac.za\n",
      "david.horwitz@uct.ac.za\n",
      "david.horwitz@uct.ac.za\n",
      "stephen.marquard@uct.ac.za\n",
      "louis@media.berkeley.edu\n",
      "louis@media.berkeley.edu\n",
      "ray@media.berkeley.edu\n",
      "cwen@iupui.edu\n",
      "cwen@iupui.edu\n",
      "cwen@iupui.edu\n",
      "mails are 27\n"
     ]
    }
   ],
   "source": [
    "f=open('D:\\Parth__B3\\File\\Files\\\\mbox-short.txt')\n",
    "count=0\n",
    "for line in f:\n",
    "    line=line.rstrip()\n",
    "    if not line.startswith('From '):\n",
    "        continue\n",
    "    count+=1\n",
    "    word=line.split(' ')\n",
    "    print(word[1])\n",
    "print(f'mails are {count}')\n",
    "f.close ()"
   ]
  },
  {
   "cell_type": "code",
   "execution_count": 16,
   "metadata": {},
   "outputs": [
    {
     "name": "stdout",
     "output_type": "stream",
     "text": [
      "{'stephen.marquard@uct.ac.za': 2, 'louis@media.berkeley.edu': 3, 'zqian@umich.edu': 4, 'rjlowe@iupui.edu': 2, 'cwen@iupui.edu': 5, 'gsilver@umich.edu': 3, 'wagnermr@iupui.edu': 1, 'antranig@caret.cam.ac.uk': 1, 'gopal.ramasammycook@gmail.com': 1, 'david.horwitz@uct.ac.za': 4, 'ray@media.berkeley.edu': 1}\n",
      "('cwen@iupui.edu', 5)\n"
     ]
    }
   ],
   "source": [
    "# pepar-1(2)\n",
    "\n",
    "f=open('D:\\Parth__B3\\File\\Files\\\\mbox-short.txt')\n",
    "count=0\n",
    "L=[]\n",
    "for line in f:\n",
    "    line=line.rstrip()\n",
    "    if not line.startswith('From '):\n",
    "        continue\n",
    "    count+=1\n",
    "    word=line.split(' ')\n",
    "    L.append(word[1])\n",
    "d={}\n",
    "for i in L:\n",
    "    d[i]=d.get(i,0)+1\n",
    "print(d)\n",
    "max_value=list(d.items())\n",
    "max_value.sort(key=lambda x:x[1], reverse=True)\n",
    "print(max_value[0])\n",
    "f.close ()"
   ]
  },
  {
   "cell_type": "code",
   "execution_count": 29,
   "metadata": {},
   "outputs": [
    {
     "name": "stdout",
     "output_type": "stream",
     "text": [
      "04   3\n",
      "06   1\n",
      "07   1\n",
      "09   2\n",
      "10   3\n",
      "11   6\n",
      "14   1\n",
      "15   2\n",
      "16   4\n",
      "17   2\n",
      "18   1\n",
      "19   1\n"
     ]
    }
   ],
   "source": [
    "#  Papar-1(3)\n",
    "\n",
    "f=open('D:\\Parth__B3\\File\\Files\\\\mbox-short.txt')\n",
    "date={}\n",
    "for i in f:\n",
    "    i=i.rstrip()\n",
    "    if not i.startswith('From '):\n",
    "        continue\n",
    "    time=i.split(' ')[6]\n",
    "    hours=time.split(':')[0]\n",
    "    if hours in date:\n",
    "        date[hours]=date[hours]+1\n",
    "    else:\n",
    "        date[hours]=1\n",
    "l=list(date.items())\n",
    "l.sort()\n",
    "for i,j in l:\n",
    "    print(i,' ',j)\n",
    "f.close ()"
   ]
  },
  {
   "cell_type": "code",
   "execution_count": 35,
   "metadata": {},
   "outputs": [
    {
     "name": "stdout",
     "output_type": "stream",
     "text": [
      "Sum :- 20.269400000000005\n",
      "Total value :- 27\n",
      "Avrage :- 0.7507185185185187\n"
     ]
    }
   ],
   "source": [
    "#  Pepar-1(4)\n",
    "\n",
    "f=open('D:\\Parth__B3\\File\\Files\\\\mbox-short.txt')\n",
    "l=[]\n",
    "for i in f:\n",
    "    i=i.rstrip()\n",
    "    if not i.startswith('X-DSPAM-Confidence:'):\n",
    "        continue\n",
    "    l.append(i.split()[1])\n",
    "count=len(l)\n",
    "s=0\n",
    "for i in l:\n",
    "    s+=float(i)\n",
    "print('Sum :-',s)\n",
    "print('Total value :-',count)\n",
    "print('Avrage :-',s/count)\n",
    "f.close()"
   ]
  },
  {
   "cell_type": "code",
   "execution_count": 6,
   "metadata": {},
   "outputs": [
    {
     "name": "stdout",
     "output_type": "stream",
     "text": [
      "Richie --> 1.700000000000001\n",
      "Armstrong --> 1.3000000000000007\n",
      "Wirth --> 2.7666666666666675\n",
      "Matz --> 2.299999999999999\n",
      "Gosling --> 1.5500000000000007\n"
     ]
    }
   ],
   "source": [
    "#  Pepar-1(5)\n",
    "\n",
    "f=open('D:\\Parth__B3\\File\\Files\\\\logfile.txt')\n",
    "l=[]\n",
    "c=0\n",
    "for i in f:\n",
    "    i=i.rstrip()\n",
    "    l=i.split()\n",
    "    entertime=l[1].split(':')\n",
    "    timein=int(entertime[0])+int(entertime[1])/60\n",
    "    exittime=l[2].split(':')\n",
    "    timeout=int(exittime[0])+int(exittime[1])/60\n",
    "    if(timeout-timein)>1:\n",
    "        print(l[0],'-->',timeout-timein)\n",
    "f.close()"
   ]
  },
  {
   "cell_type": "code",
   "execution_count": 5,
   "metadata": {},
   "outputs": [
    {
     "name": "stdout",
     "output_type": "stream",
     "text": [
      "220\n",
      "1\n"
     ]
    }
   ],
   "source": [
    "f=open('D:\\Parth__B3\\File\\Files\\\\logfile.txt','a+')\n",
    "f.write(\"Vishal\")\n",
    "print(f.tell())\n",
    "f.seek(1)\n",
    "print(f.tell())\n",
    "f.close()\n",
    "\n",
    "# seek = Pointer Change kare\n",
    "# tell = Pointer jya hoy e print kare"
   ]
  },
  {
   "cell_type": "code",
   "execution_count": 15,
   "metadata": {},
   "outputs": [
    {
     "name": "stdout",
     "output_type": "stream",
     "text": [
      "Enter Char: VA\n",
      "Vishal H Acharya\n",
      "Vishal Acharya\n"
     ]
    }
   ],
   "source": [
    "#  Pepar-1(6)\n",
    "\n",
    "f=open('D:\\Parth__B3\\File\\Files\\\\namelist.txt')\n",
    "initial=input(\"Enter Char: \")\n",
    "for i in f:\n",
    "    l=i.split()\n",
    "    if len(initial)==2:\n",
    "        if initial[0]==l[0][0] and initial[1]==l[-1][0]:\n",
    "            print(' '.join(l))\n",
    "    elif len(initial)==3 and len(l)==3:\n",
    "        if initial[0]==l[0][0] and initial[1]==l[1][0] and initial[2]==l[2][0]:\n",
    "            print(' '.join(l))\n",
    "f.close()"
   ]
  },
  {
   "cell_type": "code",
   "execution_count": 44,
   "metadata": {},
   "outputs": [
    {
     "name": "stdout",
     "output_type": "stream",
     "text": [
      " Enter Word: Vha\n",
      "Vaughn\n",
      "Vanhooser\n",
      "Vanlandingham\n",
      "Vishal\n",
      "Vishal\n"
     ]
    }
   ],
   "source": [
    "# name ma aapde input aapi te hoy eva same freqvancy vara word aava joi\n",
    "\n",
    "f=open('D:\\Parth__B3\\File\\Files\\\\namelist.txt')\n",
    "word=f.read().split()\n",
    "user=input(\" Enter Word: \")\n",
    "u={}\n",
    "for i in user:\n",
    "    u[i]=u.get(1,0)+1\n",
    "for i in word:\n",
    "    w={}\n",
    "    flag=True\n",
    "    for j in i:\n",
    "        w[j]=w.get(j,0)+1\n",
    "    for k in u:\n",
    "        if (k in w) and w[k]>=u[k]:\n",
    "            continue\n",
    "        flag=False\n",
    "    if flag:\n",
    "        print(i)\n",
    "f.close()"
   ]
  },
  {
   "cell_type": "code",
   "execution_count": null,
   "metadata": {},
   "outputs": [],
   "source": [
    "f=open('D:\\Parth__B3\\File\\Files\\\\mbox-short.txt')\n",
    "f1=open('D:\\Parth__B3\\File\\Files\\\\mbox-short.txt','w')\n",
    "word=f.read().split('')"
   ]
  }
 ],
 "metadata": {
  "kernelspec": {
   "display_name": "Python 3",
   "language": "python",
   "name": "python3"
  },
  "language_info": {
   "codemirror_mode": {
    "name": "ipython",
    "version": 3
   },
   "file_extension": ".py",
   "mimetype": "text/x-python",
   "name": "python",
   "nbconvert_exporter": "python",
   "pygments_lexer": "ipython3",
   "version": "3.8.5"
  }
 },
 "nbformat": 4,
 "nbformat_minor": 4
}
